{
 "cells": [
  {
   "cell_type": "code",
   "execution_count": 3,
   "id": "f9df8402-6e60-431f-9525-f0857f8f6b96",
   "metadata": {},
   "outputs": [],
   "source": [
    "import pynini \n",
    "from nemo_text_processing.inverse_text_normalization.hi.utils import get_abs_path\n",
    "from nemo_text_processing.text_normalization.en.graph_utils import (\n",
    "    INPUT_CASED,\n",
    "    INPUT_LOWER_CASED,\n",
    "    MIN_NEG_WEIGHT,\n",
    "    MINUS,\n",
    "    NEMO_DIGIT,\n",
    "    NEMO_SIGMA,\n",
    "    TO_LOWER,\n",
    "    GraphFst,\n",
    "    capitalized_input_graph,\n",
    "    delete_extra_space,\n",
    "    delete_space,\n",
    ") \n",
    "from nemo_text_processing.text_normalization.en.utils import load_labels\n",
    "from nemo_text_processing.inverse_text_normalization.hi.taggers.cardinal import CardinalFst\n",
    "from nemo_text_processing.inverse_text_normalization.hi_tutorial.taggers.fraction import FractionFst\n",
    "from pynini.lib import pynutil, rewrite\n"
   ]
  },
  {
   "cell_type": "code",
   "execution_count": 15,
   "id": "de004253-cf43-49d8-8c22-bc367650005d",
   "metadata": {},
   "outputs": [
    {
     "name": "stdout",
     "output_type": "stream",
     "text": [
      "None\n"
     ]
    }
   ],
   "source": [
    "def apply_fst(text, fst):\n",
    "  \"\"\" Given a string input, returns the output string\n",
    "  produced by traversing the path with lowest weight.\n",
    "  If no valid path accepts input string, returns an\n",
    "  error.\n",
    "  \"\"\"\n",
    "  #try:\n",
    "#     print(pynini.shortestpath(text @ fst).string())\n",
    " # except pynini.FstOpError:\n",
    "  #  print(f\"Error: No valid output with given input: '{text}'\")\n",
    "      \n",
    "cardinal = CardinalFst()\n",
    "fraction = FractionFst(cardinal)\n",
    "\n",
    "input_text = \"छह सौ बासठ बटा एक\"\n",
    "output = apply_fst(input_text, fraction.fst)\n",
    "#output = rewrite_lattice(input_text, fraction.fst)\n",
    "print(output)\n"
   ]
  },
  {
   "cell_type": "code",
   "execution_count": null,
   "id": "e383284d-c7d1-434b-920b-33d8644c08dd",
   "metadata": {},
   "outputs": [],
   "source": []
  }
 ],
 "metadata": {
  "kernelspec": {
   "display_name": "Python 3 (ipykernel)",
   "language": "python",
   "name": "python3"
  },
  "language_info": {
   "codemirror_mode": {
    "name": "ipython",
    "version": 3
   },
   "file_extension": ".py",
   "mimetype": "text/x-python",
   "name": "python",
   "nbconvert_exporter": "python",
   "pygments_lexer": "ipython3",
   "version": "3.8.18"
  }
 },
 "nbformat": 4,
 "nbformat_minor": 5
}
