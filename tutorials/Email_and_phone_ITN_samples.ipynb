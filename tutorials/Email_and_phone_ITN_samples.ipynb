{
 "cells": [
  {
   "cell_type": "code",
   "execution_count": 1,
   "metadata": {},
   "outputs": [],
   "source": [
    "import time\n",
    "from nemo_text_processing.inverse_text_normalization.inverse_normalize import InverseNormalizer"
   ]
  },
  {
   "cell_type": "code",
   "execution_count": 2,
   "metadata": {},
   "outputs": [
    {
     "name": "stderr",
     "output_type": "stream",
     "text": [
      " NeMo-text-processing :: INFO     :: Creating ClassifyFst grammars.\n",
      " NeMo-text-processing :: INFO     :: Creating ClassifyFst grammars.\n",
      " NeMo-text-processing :: INFO     :: Creating ClassifyFst grammars.\n"
     ]
    },
    {
     "name": "stdout",
     "output_type": "stream",
     "text": [
      "total time: 0.03539681434631348\n",
      "we paid $123 for this desk\n",
      "total time: 0.037392377853393555\n",
      "my email address is johnsmith_69@outlook.com\n",
      "total time: 0.02274012565612793\n",
      " john.smith_60@outlook.com\n",
      "total time: 0.06519293785095215\n",
      "my email address is komari.hannan@gmail.com and born on 23rd april 1993\n",
      "total time: 0.04425334930419922\n",
      "phone number is +90 531-768-0610\n",
      "total time: 0.05803370475769043\n",
      "phone number is +955 590-211-8084\n",
      "total time: 0.04518866539001465\n",
      "my phone number is +90 551-768-0610\n",
      "total time: 0.060294389724731445\n",
      "you can reach me at john.smith-84@gmail.com so you can send me email in 10th april 2024\n",
      "total time: 0.03608393669128418\n",
      "my email address is john.smith-84 at gmail.com and you can send me email every day you want\n",
      "total time: 0.020626306533813477\n",
      "my phone number is plus 90 551 768 0610\n"
     ]
    }
   ],
   "source": [
    "inverse_normalizer = InverseNormalizer(lang=\"en\")\n",
    "\n",
    "spoken = [\n",
    "    # 1\n",
    "    \"we paid one hundred twenty three dollars for this desk\", \n",
    "    # 2\n",
    "    \"My Email address is John Smith underscore sixty nine at outlook dot com\", \n",
    "    # 3\n",
    "    \"John dot Smith underscore sixty at outlook dot com\", \n",
    "    # 4\n",
    "    \"My Email address is k o m a r i dot H a n n a n at g mail dot com and born on twenty third April nineteen ninety three\",\n",
    "    # 5\n",
    "    \"phone number is plus ninety fifty three one seven six eight zero six one o\",\n",
    "    # 6\n",
    "    \"phone number is plus ninety triple five nine zero two double one double eighty four\", \n",
    "    # 7\n",
    "    \"my phone number is plus ninety double five one seven six eight o six ten \",\n",
    "    # 8\n",
    "    \"You can reach me at john dot smith dash eighty four at gmail dot com so you can send me email in tenth april twenty twenty four\",\n",
    "    # 9\n",
    "    \"my email address is john.smith-84 at gmail.com and you can send me email every day you want\",\n",
    "    # 10\n",
    "    \"my phone number is plus 90 551 768 0610\",\n",
    "    # 11\n",
    "    \"sende mir eine E-Mail an john unterstrich smith achtundsechzig Affenklammer gmail punkt com\",\n",
    "    # 12\n",
    "    \"es lautet john unterstrich smith sechs acht klammeraffe gmail punkt com für meine e-mails.\",\n",
    "    # 13\n",
    "    \"meine E-Mail-Adresse ist john unterstrich smith punkt null acht eins Affenklammer gmail punkt com\",\n",
    "    # 14\n",
    "    \"Die Telefonnummer ist plus doppelt vier eins eins eins zwei drei vier eins zwei drei vier \",\n",
    "    # 15\n",
    "    \"meine telefonnummer ist plus neunzig dreifach fünf eins sieben sechs acht doppelt zehn\",\n",
    "]\n",
    "for i in range(10):\n",
    "    tick = time.time()\n",
    "    un_normalized = inverse_normalizer.inverse_normalize(spoken[i].lower(), verbose=False)\n",
    "\n",
    "    print(\"total time:\", time.time() - tick)\n",
    "    print(un_normalized)"
   ]
  },
  {
   "cell_type": "code",
   "execution_count": null,
   "metadata": {},
   "outputs": [],
   "source": []
  }
 ],
 "metadata": {
  "kernelspec": {
   "display_name": "nemo-text-processing",
   "language": "python",
   "name": "python3"
  },
  "language_info": {
   "codemirror_mode": {
    "name": "ipython",
    "version": 3
   },
   "file_extension": ".py",
   "mimetype": "text/x-python",
   "name": "python",
   "nbconvert_exporter": "python",
   "pygments_lexer": "ipython3",
   "version": "3.10.12"
  }
 },
 "nbformat": 4,
 "nbformat_minor": 2
}
